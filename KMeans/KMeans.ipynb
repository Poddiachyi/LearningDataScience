{
 "cells": [
  {
   "cell_type": "markdown",
   "metadata": {},
   "source": [
    "# KMeans"
   ]
  },
  {
   "cell_type": "code",
   "execution_count": 2,
   "metadata": {
    "collapsed": false
   },
   "outputs": [],
   "source": [
    "%matplotlib inline\n",
    "import warnings\n",
    "warnings.filterwarnings('ignore')\n",
    "import matplotlib.pyplot as plt\n",
    "from matplotlib import style\n",
    "style.use('fivethirtyeight')\n",
    "from sklearn import preprocessing, cross_validation\n",
    "from sklearn.cluster import KMeans\n",
    "from sklearn.metrics import accuracy_score\n",
    "import numpy as np\n",
    "import pandas as pd"
   ]
  },
  {
   "cell_type": "code",
   "execution_count": 2,
   "metadata": {
    "collapsed": false
   },
   "outputs": [
    {
     "data": {
      "text/html": [
       "<div>\n",
       "<table border=\"1\" class=\"dataframe\">\n",
       "  <thead>\n",
       "    <tr style=\"text-align: right;\">\n",
       "      <th></th>\n",
       "      <th>0</th>\n",
       "      <th>1</th>\n",
       "      <th>2</th>\n",
       "      <th>3</th>\n",
       "      <th>4</th>\n",
       "      <th>5</th>\n",
       "      <th>6</th>\n",
       "      <th>7</th>\n",
       "      <th>8</th>\n",
       "      <th>9</th>\n",
       "      <th>...</th>\n",
       "      <th>81</th>\n",
       "      <th>82</th>\n",
       "      <th>83</th>\n",
       "      <th>84</th>\n",
       "      <th>85</th>\n",
       "      <th>86</th>\n",
       "      <th>87</th>\n",
       "      <th>88</th>\n",
       "      <th>89</th>\n",
       "      <th>90</th>\n",
       "    </tr>\n",
       "  </thead>\n",
       "  <tbody>\n",
       "    <tr>\n",
       "      <th>0</th>\n",
       "      <td>0.79691</td>\n",
       "      <td>0.38194</td>\n",
       "      <td>0.79691</td>\n",
       "      <td>0.37731</td>\n",
       "      <td>0.79884</td>\n",
       "      <td>0.37731</td>\n",
       "      <td>0.79497</td>\n",
       "      <td>0.37731</td>\n",
       "      <td>0.77563</td>\n",
       "      <td>0.35417</td>\n",
       "      <td>...</td>\n",
       "      <td>0.51389</td>\n",
       "      <td>0.39845</td>\n",
       "      <td>0.42593</td>\n",
       "      <td>0.47389</td>\n",
       "      <td>0.36111</td>\n",
       "      <td>0.55899</td>\n",
       "      <td>0.31250</td>\n",
       "      <td>0.63830</td>\n",
       "      <td>0.29398</td>\n",
       "      <td>1</td>\n",
       "    </tr>\n",
       "    <tr>\n",
       "      <th>1</th>\n",
       "      <td>0.67892</td>\n",
       "      <td>0.27315</td>\n",
       "      <td>0.68085</td>\n",
       "      <td>0.27315</td>\n",
       "      <td>0.68085</td>\n",
       "      <td>0.27315</td>\n",
       "      <td>0.68085</td>\n",
       "      <td>0.27315</td>\n",
       "      <td>0.67892</td>\n",
       "      <td>0.26852</td>\n",
       "      <td>...</td>\n",
       "      <td>0.57407</td>\n",
       "      <td>0.17795</td>\n",
       "      <td>0.63657</td>\n",
       "      <td>0.17215</td>\n",
       "      <td>0.67361</td>\n",
       "      <td>0.17021</td>\n",
       "      <td>0.69213</td>\n",
       "      <td>0.17215</td>\n",
       "      <td>0.69213</td>\n",
       "      <td>1</td>\n",
       "    </tr>\n",
       "    <tr>\n",
       "      <th>2</th>\n",
       "      <td>0.72147</td>\n",
       "      <td>0.23611</td>\n",
       "      <td>0.72340</td>\n",
       "      <td>0.23611</td>\n",
       "      <td>0.72340</td>\n",
       "      <td>0.23611</td>\n",
       "      <td>0.72340</td>\n",
       "      <td>0.23611</td>\n",
       "      <td>0.72340</td>\n",
       "      <td>0.23611</td>\n",
       "      <td>...</td>\n",
       "      <td>0.30556</td>\n",
       "      <td>0.59768</td>\n",
       "      <td>0.25926</td>\n",
       "      <td>0.67118</td>\n",
       "      <td>0.25231</td>\n",
       "      <td>0.73501</td>\n",
       "      <td>0.26620</td>\n",
       "      <td>0.78143</td>\n",
       "      <td>0.27778</td>\n",
       "      <td>1</td>\n",
       "    </tr>\n",
       "    <tr>\n",
       "      <th>3</th>\n",
       "      <td>0.56480</td>\n",
       "      <td>0.32407</td>\n",
       "      <td>0.56286</td>\n",
       "      <td>0.32407</td>\n",
       "      <td>0.56093</td>\n",
       "      <td>0.32407</td>\n",
       "      <td>0.55899</td>\n",
       "      <td>0.32407</td>\n",
       "      <td>0.55899</td>\n",
       "      <td>0.32407</td>\n",
       "      <td>...</td>\n",
       "      <td>0.49074</td>\n",
       "      <td>0.26306</td>\n",
       "      <td>0.42361</td>\n",
       "      <td>0.33269</td>\n",
       "      <td>0.34722</td>\n",
       "      <td>0.41006</td>\n",
       "      <td>0.28009</td>\n",
       "      <td>0.49130</td>\n",
       "      <td>0.24306</td>\n",
       "      <td>1</td>\n",
       "    </tr>\n",
       "    <tr>\n",
       "      <th>4</th>\n",
       "      <td>0.67118</td>\n",
       "      <td>0.38426</td>\n",
       "      <td>0.67118</td>\n",
       "      <td>0.38657</td>\n",
       "      <td>0.67311</td>\n",
       "      <td>0.38657</td>\n",
       "      <td>0.67311</td>\n",
       "      <td>0.38426</td>\n",
       "      <td>0.67311</td>\n",
       "      <td>0.37963</td>\n",
       "      <td>...</td>\n",
       "      <td>0.76389</td>\n",
       "      <td>0.44101</td>\n",
       "      <td>0.64120</td>\n",
       "      <td>0.45068</td>\n",
       "      <td>0.54167</td>\n",
       "      <td>0.47776</td>\n",
       "      <td>0.44213</td>\n",
       "      <td>0.53191</td>\n",
       "      <td>0.34259</td>\n",
       "      <td>1</td>\n",
       "    </tr>\n",
       "  </tbody>\n",
       "</table>\n",
       "<p>5 rows × 91 columns</p>\n",
       "</div>"
      ],
      "text/plain": [
       "        0        1        2        3        4        5        6        7   \\\n",
       "0  0.79691  0.38194  0.79691  0.37731  0.79884  0.37731  0.79497  0.37731   \n",
       "1  0.67892  0.27315  0.68085  0.27315  0.68085  0.27315  0.68085  0.27315   \n",
       "2  0.72147  0.23611  0.72340  0.23611  0.72340  0.23611  0.72340  0.23611   \n",
       "3  0.56480  0.32407  0.56286  0.32407  0.56093  0.32407  0.55899  0.32407   \n",
       "4  0.67118  0.38426  0.67118  0.38657  0.67311  0.38657  0.67311  0.38426   \n",
       "\n",
       "        8        9  ...       81       82       83       84       85       86  \\\n",
       "0  0.77563  0.35417 ...  0.51389  0.39845  0.42593  0.47389  0.36111  0.55899   \n",
       "1  0.67892  0.26852 ...  0.57407  0.17795  0.63657  0.17215  0.67361  0.17021   \n",
       "2  0.72340  0.23611 ...  0.30556  0.59768  0.25926  0.67118  0.25231  0.73501   \n",
       "3  0.55899  0.32407 ...  0.49074  0.26306  0.42361  0.33269  0.34722  0.41006   \n",
       "4  0.67311  0.37963 ...  0.76389  0.44101  0.64120  0.45068  0.54167  0.47776   \n",
       "\n",
       "        87       88       89  90  \n",
       "0  0.31250  0.63830  0.29398   1  \n",
       "1  0.69213  0.17215  0.69213   1  \n",
       "2  0.26620  0.78143  0.27778   1  \n",
       "3  0.28009  0.49130  0.24306   1  \n",
       "4  0.44213  0.53191  0.34259   1  \n",
       "\n",
       "[5 rows x 91 columns]"
      ]
     },
     "execution_count": 2,
     "metadata": {},
     "output_type": "execute_result"
    }
   ],
   "source": [
    "df = pd.read_csv('movement_libras.csv', header=None)\n",
    "df.head()"
   ]
  },
  {
   "cell_type": "markdown",
   "metadata": {},
   "source": [
    "Data Set Information:\n",
    "\n",
    "http://archive.ics.uci.edu/ml/datasets/Libras+Movement\n",
    "\n",
    "The dataset (movement_libras) contains 15 classes of 24 instances each, where each class references to a hand movement type in LIBRAS.\n",
    "\n",
    "In the video pre-processing, a time normalization is carried out selecting 45 frames from each video, in according\n",
    "to an uniform distribution. In each frame, the centroid pixels of the segmented objects (the hand) are found, which\n",
    "compose the discrete version of the curve F with 45 points. All curves are normalized in the unitary space.\n",
    "\n",
    "In order to prepare these movements to be analysed by algorithms, we have carried out a mapping operation, that is, each\n",
    "curve F is mapped in a representation with 90 features, with representing the coordinates of movement.\n",
    "\n",
    "Some sub-datasets are offered in order to support comparisons of results.\n",
    "\n",
    "Attribute Information:\n",
    "\n",
    "90 numeric (double) and 1 for the class (integer)"
   ]
  },
  {
   "cell_type": "code",
   "execution_count": 3,
   "metadata": {
    "collapsed": false
   },
   "outputs": [],
   "source": [
    "X = np.array(df.drop(90, axis=1))\n",
    "X = preprocessing.scale(X)\n",
    "y = np.array(df[90])\n",
    "X_train, X_test, y_train, y_test = cross_validation.train_test_split(X, y, test_size=0.2)"
   ]
  },
  {
   "cell_type": "code",
   "execution_count": 4,
   "metadata": {
    "collapsed": false
   },
   "outputs": [
    {
     "data": {
      "text/plain": [
       "KMeans(algorithm='auto', copy_x=True, init='k-means++', max_iter=300,\n",
       "    n_clusters=15, n_init=10, n_jobs=1, precompute_distances='auto',\n",
       "    random_state=None, tol=0.0001, verbose=0)"
      ]
     },
     "execution_count": 4,
     "metadata": {},
     "output_type": "execute_result"
    }
   ],
   "source": [
    "kmeans = KMeans(n_clusters=15)\n",
    "kmeans.fit(X_train)"
   ]
  },
  {
   "cell_type": "code",
   "execution_count": 5,
   "metadata": {
    "collapsed": false
   },
   "outputs": [
    {
     "name": "stdout",
     "output_type": "stream",
     "text": [
      "0.0138888888889\n"
     ]
    }
   ],
   "source": [
    "predictions = kmeans.predict(X_test)\n",
    "score = accuracy_score(y_test, predictions)\n",
    "print(score)"
   ]
  },
  {
   "cell_type": "markdown",
   "metadata": {},
   "source": [
    "# My implementation of KMeans"
   ]
  },
  {
   "cell_type": "code",
   "execution_count": 6,
   "metadata": {
    "collapsed": false
   },
   "outputs": [],
   "source": [
    "class MyKMeans:\n",
    "    def __init__(self, n_clusters=2):\n",
    "        self.n_clusters = n_clusters\n",
    "        self.centroids = []\n",
    "        self.labels = []\n",
    "        \n",
    "    def fit(self, X):\n",
    "        closest, centroids = self.optimize(X)\n",
    "        self.costs = [self.cost_function(X, closest, centroids)]\n",
    "        prev_cost = self.costs[0]\n",
    "        for i in range(100):\n",
    "            closest, centroids = self.optimize(X)\n",
    "            cost = self.cost_function(X, closest, centroids)\n",
    "            if prev_cost >= cost:\n",
    "                self.costs.append(cost)\n",
    "                prev_cost = cost\n",
    "                self.centroids = centroids\n",
    "                self.labels = closest\n",
    "                \n",
    "    def predict(self, X):\n",
    "        return self.closest_centroid(X, self.centroids)\n",
    "                    \n",
    "    def get_labels(self):\n",
    "        return np.array(self.labels)\n",
    "    \n",
    "    def get_centroids(self):\n",
    "        return np.array(self.centroids)\n",
    "    \n",
    "    def get_cost(self):\n",
    "        return np.array(self.costs)\n",
    "    \n",
    "    def initialize_centroids(self, X):\n",
    "        X_copy = X.copy()\n",
    "        np.random.shuffle(X_copy)\n",
    "        return X_copy[:self.n_clusters]\n",
    "    \n",
    "    def optimize(self, X):\n",
    "        centroids = self.initialize_centroids(X) # get random cendroids\n",
    "        closest = self.closest_centroid(X, centroids) # get labels for points\n",
    "        centroids = self.move_centroids(X, closest, centroids) # get cool cendroids\n",
    "        return closest, centroids\n",
    "    \n",
    "    def cost_function(self, X, closest, centroids):\n",
    "        cost = 0\n",
    "        for x, cluster in list(zip(X, closest)):\n",
    "            cost += np.linalg.norm(x - centroids[cluster])\n",
    "        cost /= len(X)\n",
    "        return cost\n",
    "\n",
    "    def closest_centroid(self, X, centroids):\n",
    "        distances = np.sqrt(((X - centroids[:, np.newaxis])**2).sum(axis=2))\n",
    "        return np.argmin(distances, axis=0)\n",
    "\n",
    "    def move_centroids(self, X, closest, centroids):\n",
    "        return np.array([X[closest==k].mean(axis=0) for k in range(centroids.shape[0])])"
   ]
  },
  {
   "cell_type": "code",
   "execution_count": 7,
   "metadata": {
    "collapsed": false
   },
   "outputs": [
    {
     "name": "stdout",
     "output_type": "stream",
     "text": [
      "0.0138888888889\n"
     ]
    }
   ],
   "source": [
    "my_kmeans = MyKMeans(n_clusters=15)\n",
    "my_kmeans.fit(X_train)\n",
    "\n",
    "predictions1 = my_kmeans.predict(X_test)\n",
    "score1 = accuracy_score(y_test, predictions1)\n",
    "print(score1)"
   ]
  },
  {
   "cell_type": "markdown",
   "metadata": {},
   "source": [
    "# An easier example to prove that It works"
   ]
  },
  {
   "cell_type": "code",
   "execution_count": 8,
   "metadata": {
    "collapsed": false
   },
   "outputs": [
    {
     "data": {
      "text/plain": [
       "<matplotlib.collections.PathCollection at 0x7fae26873f60>"
      ]
     },
     "execution_count": 8,
     "metadata": {},
     "output_type": "execute_result"
    },
    {
     "data": {
      "image/png": "[encoded data removed]",
      "text/plain": [
       "<matplotlib.figure.Figure at 0x7fae28cbacc0>"
      ]
     },
     "metadata": {},
     "output_type": "display_data"
    }
   ],
   "source": [
    "points = np.array([[0, 0], [1, 1], [1, 0], [0, 1], [0.5, 0.5], \n",
    "                   [3, 3], [4, 4], [4, 3], [3, 4], [3.5, 3.5],\n",
    "                   [0, 3], [1, 4], [0, 4], [1, 3], [0.5, 3.5]])\n",
    "\n",
    "my_kmeans1 = MyKMeans(n_clusters=3)\n",
    "my_kmeans1.fit(points)\n",
    "centroids = my_kmeans1.get_centroids()\n",
    "\n",
    "plt.scatter(points[:, 0], points[:, 1])\n",
    "plt.scatter(centroids[:, 0], centroids[:, 1], c='r', s=100)"
   ]
  },
  {
   "cell_type": "code",
   "execution_count": null,
   "metadata": {
    "collapsed": true
   },
   "outputs": [],
   "source": []
  }
 ],
 "metadata": {
  "kernelspec": {
   "display_name": "Python 3",
   "language": "python",
   "name": "python3"
  },
  "language_info": {
   "codemirror_mode": {
    "name": "ipython",
    "version": 3
   },
   "file_extension": ".py",
   "mimetype": "text/x-python",
   "name": "python",
   "nbconvert_exporter": "python",
   "pygments_lexer": "ipython3",
   "version": "3.6.0"
  }
 },
 "nbformat": 4,
 "nbformat_minor": 2
}
