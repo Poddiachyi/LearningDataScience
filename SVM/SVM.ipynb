{
 "cells": [
  {
   "cell_type": "code",
   "execution_count": 2,
   "metadata": {
    "collapsed": false
   },
   "outputs": [],
   "source": [
    "import warnings\n",
    "warnings.filterwarnings('ignore')\n",
    "import numpy as np\n",
    "import pandas as pd\n",
    "from numpy import linalg\n",
    "from sklearn.svm import SVC\n",
    "from sklearn.metrics import accuracy_score\n",
    "from sklearn import preprocessing, cross_validation\n",
    "import cvxopt\n",
    "import cvxopt.solvers"
   ]
  },
  {
   "cell_type": "code",
   "execution_count": 3,
   "metadata": {
    "collapsed": false
   },
   "outputs": [
    {
     "data": {
      "text/html": [
       "<div>\n",
       "<table border=\"1\" class=\"dataframe\">\n",
       "  <thead>\n",
       "    <tr style=\"text-align: right;\">\n",
       "      <th></th>\n",
       "      <th>Recency (months)</th>\n",
       "      <th>Frequency (times)</th>\n",
       "      <th>Monetary (c.c. blood)</th>\n",
       "      <th>Time (months)</th>\n",
       "      <th>class</th>\n",
       "    </tr>\n",
       "  </thead>\n",
       "  <tbody>\n",
       "    <tr>\n",
       "      <th>0</th>\n",
       "      <td>2</td>\n",
       "      <td>50</td>\n",
       "      <td>12500</td>\n",
       "      <td>98</td>\n",
       "      <td>1</td>\n",
       "    </tr>\n",
       "    <tr>\n",
       "      <th>1</th>\n",
       "      <td>0</td>\n",
       "      <td>13</td>\n",
       "      <td>3250</td>\n",
       "      <td>28</td>\n",
       "      <td>1</td>\n",
       "    </tr>\n",
       "    <tr>\n",
       "      <th>2</th>\n",
       "      <td>1</td>\n",
       "      <td>16</td>\n",
       "      <td>4000</td>\n",
       "      <td>35</td>\n",
       "      <td>1</td>\n",
       "    </tr>\n",
       "    <tr>\n",
       "      <th>3</th>\n",
       "      <td>2</td>\n",
       "      <td>20</td>\n",
       "      <td>5000</td>\n",
       "      <td>45</td>\n",
       "      <td>1</td>\n",
       "    </tr>\n",
       "    <tr>\n",
       "      <th>4</th>\n",
       "      <td>1</td>\n",
       "      <td>24</td>\n",
       "      <td>6000</td>\n",
       "      <td>77</td>\n",
       "      <td>0</td>\n",
       "    </tr>\n",
       "  </tbody>\n",
       "</table>\n",
       "</div>"
      ],
      "text/plain": [
       "   Recency (months)  Frequency (times)  Monetary (c.c. blood)  Time (months)  \\\n",
       "0                 2                 50                  12500             98   \n",
       "1                 0                 13                   3250             28   \n",
       "2                 1                 16                   4000             35   \n",
       "3                 2                 20                   5000             45   \n",
       "4                 1                 24                   6000             77   \n",
       "\n",
       "   class  \n",
       "0      1  \n",
       "1      1  \n",
       "2      1  \n",
       "3      1  \n",
       "4      0  "
      ]
     },
     "execution_count": 3,
     "metadata": {},
     "output_type": "execute_result"
    }
   ],
   "source": [
    "df = pd.read_csv('transfusion.csv')\n",
    "df.head()"
   ]
  },
  {
   "cell_type": "code",
   "execution_count": 4,
   "metadata": {
    "collapsed": false
   },
   "outputs": [],
   "source": [
    "df.dropna(inplace=True)\n",
    "X = np.array(df.drop('class', axis=1))\n",
    "X = preprocessing.scale(X)\n",
    "y = np.array(df['class'])\n",
    "\n",
    "X_train, X_test, y_train, y_test = cross_validation.train_test_split(X, y, test_size=0.2)"
   ]
  },
  {
   "cell_type": "code",
   "execution_count": 5,
   "metadata": {
    "collapsed": false
   },
   "outputs": [
    {
     "name": "stdout",
     "output_type": "stream",
     "text": [
      "0.806666666667\n"
     ]
    }
   ],
   "source": [
    "clf = SVC()\n",
    "clf.fit(X_train, y_train)\n",
    "\n",
    "accuracy = clf.score(X_test, y_test)\n",
    "print(accuracy)"
   ]
  },
  {
   "cell_type": "code",
   "execution_count": 6,
   "metadata": {
    "collapsed": true
   },
   "outputs": [],
   "source": [
    "def gaussian_kernel(x, y, sigma=5.0):\n",
    "    return np.exp(-linalg.norm(x-y)**2 / (2 * (sigma ** 2)))"
   ]
  },
  {
   "cell_type": "code",
   "execution_count": 7,
   "metadata": {
    "collapsed": false
   },
   "outputs": [],
   "source": [
    "class SVM(object):\n",
    "\n",
    "    def __init__(self, kernel):\n",
    "        self.kernel = kernel\n",
    "\n",
    "    def fit(self, X, y):\n",
    "        n_samples, n_features = X.shape\n",
    "\n",
    "        K = np.zeros((n_samples, n_samples))\n",
    "        for i in range(n_samples):\n",
    "            for j in range(n_samples):\n",
    "                K[i,j] = self.kernel(X[i], X[j])\n",
    "\n",
    "        # cvxopt is for convex optimization \n",
    "        P = cvxopt.matrix(np.outer(y,y) * K)\n",
    "        q = cvxopt.matrix(np.ones(n_samples) * -1)\n",
    "        A = cvxopt.matrix(y, (1,n_samples))\n",
    "        b = cvxopt.matrix(0.0)\n",
    "\n",
    "        G = cvxopt.matrix(np.diag(np.ones(n_samples) * -1))\n",
    "        h = cvxopt.matrix(np.zeros(n_samples))\n",
    "\n",
    "        a = np.ravel(cvxopt.solvers.qp(P, q, G, h, A, b)['x'])\n",
    "\n",
    "        sv = a > 1e-5\n",
    "        ind = np.arange(len(a))[sv]\n",
    "        self.a = a[sv]\n",
    "        self.sv = X[sv]\n",
    "        self.sv_y = y[sv]\n",
    "\n",
    "        self.b = 0\n",
    "        for n in range(len(self.a)):\n",
    "            self.b += self.sv_y[n]\n",
    "            self.b -= np.sum(self.a * self.sv_y * K[ind[n],sv])\n",
    "        self.b /= len(self.a)\n",
    "\n",
    "    def predict(self, X):\n",
    "        y_predict = np.zeros(len(X))\n",
    "        for i in range(len(X)):\n",
    "            s = 0\n",
    "            for a, sv_y, sv in zip(self.a, self.sv_y, self.sv):\n",
    "                s += a * sv_y * self.kernel(X[i], sv)\n",
    "            y_predict[i] = s\n",
    "        return np.sign(y_predict + self.b)\n"
   ]
  },
  {
   "cell_type": "code",
   "execution_count": 8,
   "metadata": {
    "collapsed": true
   },
   "outputs": [],
   "source": [
    "def zero_to_minus_one(data):\n",
    "    y_tmp = []\n",
    "    for value in data:\n",
    "        if value == 0:\n",
    "            y_tmp.append(-1.0)\n",
    "        else: \n",
    "            y_tmp.append(1.0)\n",
    "    return np.array(y_tmp)"
   ]
  },
  {
   "cell_type": "code",
   "execution_count": 9,
   "metadata": {
    "collapsed": false
   },
   "outputs": [
    {
     "name": "stdout",
     "output_type": "stream",
     "text": [
      "     pcost       dcost       gap    pres   dres\n",
      " 0: -3.8023e+02 -1.1311e+03  2e+03  3e+01  3e+00\n",
      " 1: -1.7478e+03 -2.5273e+03  9e+02  1e+01  1e+00\n",
      " 2: -5.2998e+03 -6.3151e+03  1e+03  1e+01  1e+00\n",
      " 3: -1.5246e+04 -1.7310e+04  2e+03  1e+01  1e+00\n",
      " 4: -7.1047e+04 -7.6480e+04  5e+03  1e+01  1e+00\n",
      " 5: -1.8544e+05 -1.9798e+05  1e+04  1e+01  1e+00\n",
      " 6: -8.3889e+05 -8.8302e+05  4e+04  1e+01  1e+00\n",
      " 7: -2.3110e+06 -2.4212e+06  1e+05  1e+01  1e+00\n",
      " 8: -9.1470e+06 -9.5247e+06  4e+05  1e+01  1e+00\n",
      " 9: -2.7187e+07 -2.8221e+07  1e+06  1e+01  1e+00\n",
      "10: -5.5946e+07 -5.7989e+07  2e+06  1e+01  1e+00\n",
      "11: -1.7929e+08 -1.8533e+08  6e+06  1e+01  1e+00\n",
      "12: -5.0142e+08 -5.1732e+08  2e+07  1e+01  1e+00\n",
      "13: -1.7120e+09 -1.7626e+09  5e+07  1e+01  1e+00\n",
      "14: -3.3171e+09 -3.4125e+09  1e+08  1e+01  1e+00\n",
      "15: -1.3267e+10 -1.3619e+10  4e+08  1e+01  1e+00\n",
      "16: -2.2466e+10 -2.3048e+10  6e+08  1e+01  1e+00\n",
      "17: -2.6588e+10 -2.7273e+10  7e+08  1e+01  1e+00\n",
      "18: -2.8277e+10 -2.9003e+10  7e+08  1e+01  1e+00\n",
      "19: -4.5414e+10 -4.6560e+10  1e+09  1e+01  1e+00\n",
      "20: -4.5642e+10 -4.6794e+10  1e+09  1e+01  1e+00\n",
      "21: -7.0003e+10 -7.1744e+10  2e+09  1e+01  1e+00\n",
      "22: -1.7076e+11 -1.7485e+11  4e+09  1e+01  1e+00\n",
      "23: -2.8738e+11 -2.9415e+11  7e+09  1e+01  1e+00\n",
      "24: -4.4192e+11 -4.5219e+11  1e+10  1e+01  1e+00\n",
      "25: -6.4588e+11 -6.6072e+11  1e+10  1e+01  1e+00\n",
      "26: -6.9066e+11 -7.0650e+11  2e+10  1e+01  1e+00\n",
      "27: -1.3695e+12 -1.4002e+12  3e+10  1e+01  1e+00\n",
      "28: -1.5320e+12 -1.5662e+12  3e+10  1e+01  1e+00\n",
      "29: -6.7570e+12 -6.8972e+12  1e+11  1e+01  1e+00\n",
      "30: -9.4752e+12 -9.6699e+12  2e+11  1e+01  1e+00\n",
      "31: -1.4563e+13 -1.4859e+13  3e+11  1e+01  1e+00\n",
      "32: -1.9795e+13 -2.0194e+13  4e+11  1e+01  1e+00\n",
      "33: -3.5979e+13 -3.6692e+13  7e+11  1e+01  1e+00\n",
      "34: -1.0999e+14 -1.1208e+14  2e+12  1e+01  1e+00\n",
      "35: -1.5762e+14 -1.6058e+14  3e+12  1e+01  1e+00\n",
      "36: -2.4100e+14 -2.4547e+14  4e+12  1e+01  1e+00\n",
      "37: -3.6064e+14 -3.6708e+14  6e+12  1e+01  1e+00\n",
      "38: -4.7084e+14 -4.7852e+14  8e+12  1e+01  1e+00\n",
      "39: -4.7078e+14 -4.7846e+14  8e+12  1e+01  1e+00\n",
      "Terminated (singular KKT matrix).\n",
      "0.253333333333\n"
     ]
    }
   ],
   "source": [
    "y_train_my_svm = zero_to_minus_one(y_train)\n",
    "y_test_my_svm = zero_to_minus_one(y_test)\n",
    "\n",
    "my_clf = SVM(gaussian_kernel)\n",
    "my_clf.fit(X_train.astype(float), y_train_my_svm)\n",
    "\n",
    "predictions = my_clf.predict(X_test)\n",
    "my_accuracy = accuracy_score(y_test_my_svm, predictions)\n",
    "print(my_accuracy)"
   ]
  },
  {
   "cell_type": "code",
   "execution_count": null,
   "metadata": {
    "collapsed": true
   },
   "outputs": [],
   "source": []
  }
 ],
 "metadata": {
  "kernelspec": {
   "display_name": "Python 3",
   "language": "python",
   "name": "python3"
  },
  "language_info": {
   "codemirror_mode": {
    "name": "ipython",
    "version": 3
   },
   "file_extension": ".py",
   "mimetype": "text/x-python",
   "name": "python",
   "nbconvert_exporter": "python",
   "pygments_lexer": "ipython3",
   "version": "3.6.0"
  }
 },
 "nbformat": 4,
 "nbformat_minor": 2
}
