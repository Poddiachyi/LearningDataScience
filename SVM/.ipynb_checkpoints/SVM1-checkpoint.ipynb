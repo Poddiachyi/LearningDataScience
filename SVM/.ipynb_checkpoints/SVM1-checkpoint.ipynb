{
 "cells": [
  {
   "cell_type": "code",
   "execution_count": 1,
   "metadata": {
    "collapsed": false
   },
   "outputs": [
    {
     "name": "stderr",
     "output_type": "stream",
     "text": [
      "/home/tagere/Programs/anaconda3/lib/python3.6/site-packages/sklearn/cross_validation.py:44: DeprecationWarning: This module was deprecated in version 0.18 in favor of the model_selection module into which all the refactored classes and functions are moved. Also note that the interface of the new CV iterators are different from that of this module. This module will be removed in 0.20.\n",
      "  \"This module will be removed in 0.20.\", DeprecationWarning)\n"
     ]
    }
   ],
   "source": [
    "import numpy as np\n",
    "import pandas as pd\n",
    "from numpy import linalg\n",
    "from sklearn.svm import SVC\n",
    "from sklearn.metrics import accuracy_score\n",
    "from sklearn import preprocessing, cross_validation\n",
    "import cvxopt\n",
    "import cvxopt.solvers"
   ]
  },
  {
   "cell_type": "code",
   "execution_count": 10,
   "metadata": {
    "collapsed": false
   },
   "outputs": [
    {
     "data": {
      "text/html": [
       "<div>\n",
       "<table border=\"1\" class=\"dataframe\">\n",
       "  <thead>\n",
       "    <tr style=\"text-align: right;\">\n",
       "      <th></th>\n",
       "      <th>Recency (months)</th>\n",
       "      <th>Frequency (times)</th>\n",
       "      <th>Monetary (c.c. blood)</th>\n",
       "      <th>Time (months)</th>\n",
       "      <th>class</th>\n",
       "    </tr>\n",
       "  </thead>\n",
       "  <tbody>\n",
       "    <tr>\n",
       "      <th>0</th>\n",
       "      <td>2</td>\n",
       "      <td>50</td>\n",
       "      <td>12500</td>\n",
       "      <td>98</td>\n",
       "      <td>1</td>\n",
       "    </tr>\n",
       "    <tr>\n",
       "      <th>1</th>\n",
       "      <td>0</td>\n",
       "      <td>13</td>\n",
       "      <td>3250</td>\n",
       "      <td>28</td>\n",
       "      <td>1</td>\n",
       "    </tr>\n",
       "    <tr>\n",
       "      <th>2</th>\n",
       "      <td>1</td>\n",
       "      <td>16</td>\n",
       "      <td>4000</td>\n",
       "      <td>35</td>\n",
       "      <td>1</td>\n",
       "    </tr>\n",
       "    <tr>\n",
       "      <th>3</th>\n",
       "      <td>2</td>\n",
       "      <td>20</td>\n",
       "      <td>5000</td>\n",
       "      <td>45</td>\n",
       "      <td>1</td>\n",
       "    </tr>\n",
       "    <tr>\n",
       "      <th>4</th>\n",
       "      <td>1</td>\n",
       "      <td>24</td>\n",
       "      <td>6000</td>\n",
       "      <td>77</td>\n",
       "      <td>0</td>\n",
       "    </tr>\n",
       "  </tbody>\n",
       "</table>\n",
       "</div>"
      ],
      "text/plain": [
       "   Recency (months)  Frequency (times)  Monetary (c.c. blood)  Time (months)  \\\n",
       "0                 2                 50                  12500             98   \n",
       "1                 0                 13                   3250             28   \n",
       "2                 1                 16                   4000             35   \n",
       "3                 2                 20                   5000             45   \n",
       "4                 1                 24                   6000             77   \n",
       "\n",
       "   class  \n",
       "0      1  \n",
       "1      1  \n",
       "2      1  \n",
       "3      1  \n",
       "4      0  "
      ]
     },
     "execution_count": 10,
     "metadata": {},
     "output_type": "execute_result"
    }
   ],
   "source": [
    "df = pd.read_csv('transfusion.csv')\n",
    "df.head()"
   ]
  },
  {
   "cell_type": "code",
   "execution_count": 17,
   "metadata": {
    "collapsed": false
   },
   "outputs": [
    {
     "name": "stderr",
     "output_type": "stream",
     "text": [
      "/home/tagere/Programs/anaconda3/lib/python3.6/site-packages/sklearn/utils/validation.py:429: DataConversionWarning: Data with input dtype int64 was converted to float64 by the scale function.\n",
      "  warnings.warn(msg, _DataConversionWarning)\n"
     ]
    }
   ],
   "source": [
    "df.dropna(inplace=True)\n",
    "X = np.array(df.drop('class', axis=1))\n",
    "X = preprocessing.scale(X)\n",
    "y = np.array(df['class'])\n",
    "\n",
    "X_train, X_test, y_train, y_test = cross_validation.train_test_split(X, y, test_size=0.2)"
   ]
  },
  {
   "cell_type": "code",
   "execution_count": 18,
   "metadata": {
    "collapsed": false
   },
   "outputs": [
    {
     "name": "stdout",
     "output_type": "stream",
     "text": [
      "0.806666666667\n"
     ]
    }
   ],
   "source": [
    "clf = SVC()\n",
    "clf.fit(X_train, y_train)\n",
    "\n",
    "accuracy = clf.score(X_test, y_test)\n",
    "print(accuracy)"
   ]
  },
  {
   "cell_type": "code",
   "execution_count": 19,
   "metadata": {
    "collapsed": true
   },
   "outputs": [],
   "source": [
    "def gaussian_kernel(x, y, sigma=5.0):\n",
    "    return np.exp(-linalg.norm(x-y)**2 / (2 * (sigma ** 2)))"
   ]
  },
  {
   "cell_type": "code",
   "execution_count": 20,
   "metadata": {
    "collapsed": false
   },
   "outputs": [],
   "source": [
    "class SVM(object):\n",
    "\n",
    "    def __init__(self, kernel):\n",
    "        self.kernel = kernel\n",
    "\n",
    "    def fit(self, X, y):\n",
    "        n_samples, n_features = X.shape\n",
    "\n",
    "        K = np.zeros((n_samples, n_samples))\n",
    "        for i in range(n_samples):\n",
    "            for j in range(n_samples):\n",
    "                K[i,j] = self.kernel(X[i], X[j])\n",
    "\n",
    "        # cvxopt is for convex optimization \n",
    "        P = cvxopt.matrix(np.outer(y,y) * K)\n",
    "        q = cvxopt.matrix(np.ones(n_samples) * -1)\n",
    "        A = cvxopt.matrix(y, (1,n_samples))\n",
    "        b = cvxopt.matrix(0.0)\n",
    "\n",
    "        G = cvxopt.matrix(np.diag(np.ones(n_samples) * -1))\n",
    "        h = cvxopt.matrix(np.zeros(n_samples))\n",
    "\n",
    "        a = np.ravel(cvxopt.solvers.qp(P, q, G, h, A, b)['x'])\n",
    "\n",
    "        sv = a > 1e-5\n",
    "        ind = np.arange(len(a))[sv]\n",
    "        self.a = a[sv]\n",
    "        self.sv = X[sv]\n",
    "        self.sv_y = y[sv]\n",
    "\n",
    "        self.b = 0\n",
    "        for n in range(len(self.a)):\n",
    "            self.b += self.sv_y[n]\n",
    "            self.b -= np.sum(self.a * self.sv_y * K[ind[n],sv])\n",
    "        self.b /= len(self.a)\n",
    "\n",
    "    def predict(self, X):\n",
    "        y_predict = np.zeros(len(X))\n",
    "        for i in range(len(X)):\n",
    "            s = 0\n",
    "            for a, sv_y, sv in zip(self.a, self.sv_y, self.sv):\n",
    "                s += a * sv_y * self.kernel(X[i], sv)\n",
    "            y_predict[i] = s\n",
    "        return np.sign(y_predict + self.b)\n"
   ]
  },
  {
   "cell_type": "code",
   "execution_count": 21,
   "metadata": {
    "collapsed": true
   },
   "outputs": [],
   "source": [
    "def zero_to_minus_one(data):\n",
    "    y_tmp = []\n",
    "    for value in data:\n",
    "        if value == 0:\n",
    "            y_tmp.append(-1.0)\n",
    "        else: \n",
    "            y_tmp.append(1.0)\n",
    "    return np.array(y_tmp)"
   ]
  },
  {
   "cell_type": "code",
   "execution_count": 22,
   "metadata": {
    "collapsed": false
   },
   "outputs": [
    {
     "name": "stdout",
     "output_type": "stream",
     "text": [
      "     pcost       dcost       gap    pres   dres\n",
      " 0: -3.6346e+02 -1.1066e+03  2e+03  3e+01  3e+00\n",
      " 1: -1.7994e+03 -2.5316e+03  9e+02  1e+01  1e+00\n",
      " 2: -5.4051e+03 -6.5682e+03  1e+03  1e+01  1e+00\n",
      " 3: -2.4087e+04 -2.6222e+04  2e+03  1e+01  1e+00\n",
      " 4: -9.2626e+04 -9.8888e+04  6e+03  1e+01  1e+00\n",
      " 5: -1.2310e+05 -1.3123e+05  8e+03  1e+01  1e+00\n",
      " 6: -4.1250e+05 -4.3580e+05  2e+04  1e+01  1e+00\n",
      " 7: -1.1125e+06 -1.1695e+06  6e+04  1e+01  1e+00\n",
      " 8: -2.2408e+06 -2.3497e+06  1e+05  1e+01  1e+00\n",
      " 9: -4.5501e+06 -4.7604e+06  2e+05  1e+01  1e+00\n",
      "10: -3.3969e+07 -3.5102e+07  1e+06  1e+01  1e+00\n",
      "11: -3.5906e+07 -3.7100e+07  1e+06  1e+01  1e+00\n",
      "12: -4.3504e+07 -4.4935e+07  1e+06  1e+01  1e+00\n",
      "13: -7.5427e+07 -7.7835e+07  2e+06  1e+01  1e+00\n",
      "14: -1.4880e+08 -1.5340e+08  5e+06  1e+01  1e+00\n",
      "15: -3.4017e+08 -3.5027e+08  1e+07  1e+01  1e+00\n",
      "16: -4.6064e+08 -4.7417e+08  1e+07  1e+01  1e+00\n",
      "17: -2.2282e+09 -2.2868e+09  6e+07  1e+01  1e+00\n",
      "18: -5.8507e+09 -5.9972e+09  1e+08  1e+01  1e+00\n",
      "19: -1.4080e+10 -1.4420e+10  3e+08  1e+01  1e+00\n",
      "20: -4.1198e+10 -4.2155e+10  1e+09  1e+01  1e+00\n",
      "21: -1.0025e+11 -1.0250e+11  2e+09  1e+01  1e+00\n",
      "22: -1.2101e+11 -1.2372e+11  3e+09  1e+01  1e+00\n",
      "23: -2.4684e+11 -2.5222e+11  5e+09  1e+01  1e+00\n",
      "24: -4.0381e+11 -4.1246e+11  9e+09  1e+01  1e+00\n",
      "25: -7.2533e+11 -7.4055e+11  2e+10  1e+01  1e+00\n",
      "26: -9.4729e+11 -9.6700e+11  2e+10  1e+01  1e+00\n",
      "27: -1.7265e+12 -1.7617e+12  4e+10  1e+01  1e+00\n",
      "28: -2.8183e+12 -2.8749e+12  6e+10  1e+01  1e+00\n",
      "29: -6.6301e+12 -6.7598e+12  1e+11  1e+01  1e+00\n",
      "30: -7.2718e+12 -7.4138e+12  1e+11  1e+01  1e+00\n",
      "31: -1.0391e+13 -1.0592e+13  2e+11  1e+01  1e+00\n",
      "32: -2.3190e+13 -2.3630e+13  4e+11  1e+01  1e+00\n",
      "33: -2.7187e+13 -2.7701e+13  5e+11  1e+01  1e+00\n",
      "34: -4.3865e+13 -4.4686e+13  8e+11  1e+01  1e+00\n",
      "35: -7.5073e+13 -7.6463e+13  1e+12  1e+01  1e+00\n",
      "36: -1.2837e+14 -1.3071e+14  2e+12  1e+01  1e+00\n",
      "37: -1.3106e+14 -1.3345e+14  2e+12  1e+01  1e+00\n",
      "38: -1.9296e+14 -1.9643e+14  3e+12  1e+01  1e+00\n",
      "39: -2.0270e+14 -2.0634e+14  4e+12  1e+01  1e+00\n",
      "40: -2.8803e+14 -2.9310e+14  5e+12  1e+01  1e+00\n",
      "41: -3.3536e+14 -3.4119e+14  6e+12  1e+01  1e+00\n",
      "42: -4.5155e+14 -4.5912e+14  8e+12  1e+01  1e+00\n",
      "43: -4.9540e+14 -5.0319e+14  8e+12  1e+01  1e+00\n",
      "44: -5.0417e+14 -5.1194e+14  8e+12  1e+01  1e+00\n",
      "Terminated (singular KKT matrix).\n",
      "0.24\n"
     ]
    }
   ],
   "source": [
    "y_train_my_svm = zero_to_minus_one(y_train)\n",
    "y_test_my_svm = zero_to_minus_one(y_test)\n",
    "\n",
    "my_clf = SVM(gaussian_kernel)\n",
    "my_clf.fit(X_train.astype(float), y_train_my_svm)\n",
    "\n",
    "predictions = my_clf.predict(X_test)\n",
    "my_accuracy = accuracy_score(y_test_my_svm, predictions)\n",
    "print(my_accuracy)"
   ]
  },
  {
   "cell_type": "code",
   "execution_count": null,
   "metadata": {
    "collapsed": true
   },
   "outputs": [],
   "source": []
  }
 ],
 "metadata": {
  "kernelspec": {
   "display_name": "Python 3",
   "language": "python",
   "name": "python3"
  },
  "language_info": {
   "codemirror_mode": {
    "name": "ipython",
    "version": 3
   },
   "file_extension": ".py",
   "mimetype": "text/x-python",
   "name": "python",
   "nbconvert_exporter": "python",
   "pygments_lexer": "ipython3",
   "version": "3.6.0"
  }
 },
 "nbformat": 4,
 "nbformat_minor": 2
}
