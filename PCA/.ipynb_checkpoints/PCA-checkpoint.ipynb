{
 "cells": [
  {
   "cell_type": "markdown",
   "metadata": {},
   "source": [
    "# Principal component analysis"
   ]
  },
  {
   "cell_type": "code",
   "execution_count": 2,
   "metadata": {
    "collapsed": false
   },
   "outputs": [],
   "source": [
    "import warnings\n",
    "warnings.filterwarnings('ignore')\n",
    "import numpy as np\n",
    "from sklearn.datasets import make_classification\n",
    "from sklearn.decomposition import PCA\n",
    "from sklearn import preprocessing, cross_validation\n",
    "from sklearn.metrics import accuracy_score\n",
    "from sklearn.linear_model import LogisticRegression"
   ]
  },
  {
   "cell_type": "code",
   "execution_count": 2,
   "metadata": {
    "collapsed": true
   },
   "outputs": [],
   "source": [
    "X, y = make_classification(n_samples=1000, n_features=2000, n_informative=1, n_redundant=0,\n",
    "                           n_classes=2, n_clusters_per_class=1, random_state=0)\n",
    "\n",
    "X_train, X_test, y_train, y_test = cross_validation.train_test_split(X, y, test_size=0.2)"
   ]
  },
  {
   "cell_type": "code",
   "execution_count": 3,
   "metadata": {
    "collapsed": false
   },
   "outputs": [
    {
     "name": "stdout",
     "output_type": "stream",
     "text": [
      "0.485\n"
     ]
    }
   ],
   "source": [
    "pca = PCA(n_components=2)\n",
    "pca.fit(X_train)\n",
    "Z_sklearn_train = pca.transform(X_train)\n",
    "Z_sklearn_test = pca.transform(X_test)\n",
    "\n",
    "clf = LogisticRegression()\n",
    "clf.fit(Z_sklearn_train, y_train)\n",
    "accuracy = clf.score(Z_sklearn_test, y_test)\n",
    "print(accuracy)"
   ]
  },
  {
   "cell_type": "markdown",
   "metadata": {},
   "source": [
    "# My implementation of Principal component analysis"
   ]
  },
  {
   "cell_type": "code",
   "execution_count": 4,
   "metadata": {
    "collapsed": false
   },
   "outputs": [],
   "source": [
    "def MyPCA(X, var_retained = 0.95, n_components=None):\n",
    "    (n, m) = X.shape\n",
    "    k = n_components\n",
    "    sigma = X.T.dot(X) / m\n",
    "    U, s, V = np.linalg.svd(sigma, full_matrices = True)\n",
    "\n",
    "    s_total = np.sum(s)\n",
    "    var_i = np.array([np.sum(s[: i + 1]) / s_total * 100.0 for i in range(n)])\n",
    "    if not k:\n",
    "        k = len(var_i[var_i < (var_retained * 100)])\n",
    "\n",
    "    U_reduced = U[:, : k]\n",
    "    Z = X.dot(U_reduced)\n",
    "    \n",
    "    return Z, U_reduced"
   ]
  },
  {
   "cell_type": "code",
   "execution_count": 5,
   "metadata": {
    "collapsed": false
   },
   "outputs": [
    {
     "name": "stdout",
     "output_type": "stream",
     "text": [
      "0.535\n"
     ]
    }
   ],
   "source": [
    "Z_my_train, _ = MyPCA(X_train, n_components=2)\n",
    "Z_my_test, _ = MyPCA(X_test, n_components=2)\n",
    "\n",
    "clf1 = LogisticRegression()\n",
    "clf1.fit(Z_my_train, y_train)\n",
    "\n",
    "accuracy1 = clf1.score(Z_my_test, y_test)\n",
    "print(accuracy1)"
   ]
  }
 ],
 "metadata": {
  "kernelspec": {
   "display_name": "Python 3",
   "language": "python",
   "name": "python3"
  },
  "language_info": {
   "codemirror_mode": {
    "name": "ipython",
    "version": 3
   },
   "file_extension": ".py",
   "mimetype": "text/x-python",
   "name": "python",
   "nbconvert_exporter": "python",
   "pygments_lexer": "ipython3",
   "version": "3.6.0"
  }
 },
 "nbformat": 4,
 "nbformat_minor": 2
}
