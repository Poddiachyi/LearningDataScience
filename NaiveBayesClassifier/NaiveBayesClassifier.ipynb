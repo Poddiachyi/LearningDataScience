{
 "cells": [
  {
   "cell_type": "markdown",
   "metadata": {},
   "source": [
    "# Naive Bayes Classifeir"
   ]
  },
  {
   "cell_type": "code",
   "execution_count": 2,
   "metadata": {
    "collapsed": false
   },
   "outputs": [],
   "source": [
    "import warnings\n",
    "warnings.filterwarnings('ignore')\n",
    "import numpy as np\n",
    "import pandas as pd\n",
    "import math\n",
    "from statistics import mean, stdev\n",
    "from sklearn.metrics import accuracy_score\n",
    "from sklearn import preprocessing, cross_validation\n",
    "from sklearn.naive_bayes import GaussianNB"
   ]
  },
  {
   "cell_type": "code",
   "execution_count": 2,
   "metadata": {
    "collapsed": false
   },
   "outputs": [
    {
     "data": {
      "text/html": [
       "<div>\n",
       "<table border=\"1\" class=\"dataframe\">\n",
       "  <thead>\n",
       "    <tr style=\"text-align: right;\">\n",
       "      <th></th>\n",
       "      <th>NTP</th>\n",
       "      <th>PGC</th>\n",
       "      <th>DBP</th>\n",
       "      <th>TSFT</th>\n",
       "      <th>SI</th>\n",
       "      <th>BMI</th>\n",
       "      <th>DPI</th>\n",
       "      <th>A</th>\n",
       "      <th>Class</th>\n",
       "    </tr>\n",
       "  </thead>\n",
       "  <tbody>\n",
       "    <tr>\n",
       "      <th>0</th>\n",
       "      <td>6</td>\n",
       "      <td>148</td>\n",
       "      <td>72</td>\n",
       "      <td>35</td>\n",
       "      <td>0</td>\n",
       "      <td>33.6</td>\n",
       "      <td>0.627</td>\n",
       "      <td>50</td>\n",
       "      <td>1</td>\n",
       "    </tr>\n",
       "    <tr>\n",
       "      <th>1</th>\n",
       "      <td>1</td>\n",
       "      <td>85</td>\n",
       "      <td>66</td>\n",
       "      <td>29</td>\n",
       "      <td>0</td>\n",
       "      <td>26.6</td>\n",
       "      <td>0.351</td>\n",
       "      <td>31</td>\n",
       "      <td>0</td>\n",
       "    </tr>\n",
       "    <tr>\n",
       "      <th>2</th>\n",
       "      <td>8</td>\n",
       "      <td>183</td>\n",
       "      <td>64</td>\n",
       "      <td>0</td>\n",
       "      <td>0</td>\n",
       "      <td>23.3</td>\n",
       "      <td>0.672</td>\n",
       "      <td>32</td>\n",
       "      <td>1</td>\n",
       "    </tr>\n",
       "    <tr>\n",
       "      <th>3</th>\n",
       "      <td>1</td>\n",
       "      <td>89</td>\n",
       "      <td>66</td>\n",
       "      <td>23</td>\n",
       "      <td>94</td>\n",
       "      <td>28.1</td>\n",
       "      <td>0.167</td>\n",
       "      <td>21</td>\n",
       "      <td>0</td>\n",
       "    </tr>\n",
       "    <tr>\n",
       "      <th>4</th>\n",
       "      <td>0</td>\n",
       "      <td>137</td>\n",
       "      <td>40</td>\n",
       "      <td>35</td>\n",
       "      <td>168</td>\n",
       "      <td>43.1</td>\n",
       "      <td>2.288</td>\n",
       "      <td>33</td>\n",
       "      <td>1</td>\n",
       "    </tr>\n",
       "  </tbody>\n",
       "</table>\n",
       "</div>"
      ],
      "text/plain": [
       "   NTP  PGC  DBP  TSFT   SI   BMI    DPI   A  Class\n",
       "0    6  148   72    35    0  33.6  0.627  50      1\n",
       "1    1   85   66    29    0  26.6  0.351  31      0\n",
       "2    8  183   64     0    0  23.3  0.672  32      1\n",
       "3    1   89   66    23   94  28.1  0.167  21      0\n",
       "4    0  137   40    35  168  43.1  2.288  33      1"
      ]
     },
     "execution_count": 2,
     "metadata": {},
     "output_type": "execute_result"
    }
   ],
   "source": [
    "df = pd.read_csv('pima-indians-diabetes.csv')\n",
    "df.head()"
   ]
  },
  {
   "cell_type": "markdown",
   "metadata": {},
   "source": [
    "Data Set Information:\n",
    "\n",
    "https://archive.ics.uci.edu/ml/datasets/Pima+Indians+Diabetes\n",
    "\n",
    "Several constraints were placed on the selection of these instances from a larger database. In particular, all patients here are females at least 21 years old of Pima Indian heritage. ADAP is an adaptive learning routine that generates and executes digital analogs of perceptron-like devices. It is a unique algorithm; see the paper for details.\n",
    "\n",
    "Attribute Information:\n",
    "\n",
    "1. Number of times pregnant\n",
    "2. Plasma glucose concentration a 2 hours in an oral glucose tolerance test\n",
    "3. Diastolic blood pressure (mm Hg)\n",
    "4. Triceps skin fold thickness (mm)\n",
    "5. 2-Hour serum insulin (mu U/ml)\n",
    "6. Body mass index (weight in kg/(height in m)^2)\n",
    "7. Diabetes pedigree function\n",
    "8. Age (years)\n",
    "9. Class variable (0 or 1)\n"
   ]
  },
  {
   "cell_type": "code",
   "execution_count": 3,
   "metadata": {
    "collapsed": true
   },
   "outputs": [],
   "source": [
    "X = np.array(df.drop('Class', axis=1))\n",
    "X = preprocessing.scale(X)\n",
    "y = np.array(df['Class'])"
   ]
  },
  {
   "cell_type": "code",
   "execution_count": 4,
   "metadata": {
    "collapsed": true
   },
   "outputs": [],
   "source": [
    "X_train, X_test, y_train, y_test = cross_validation.train_test_split(X, y, test_size=0.2)"
   ]
  },
  {
   "cell_type": "code",
   "execution_count": 5,
   "metadata": {
    "collapsed": false
   },
   "outputs": [
    {
     "name": "stdout",
     "output_type": "stream",
     "text": [
      "0.785714285714\n"
     ]
    }
   ],
   "source": [
    "clf = GaussianNB()\n",
    "clf.fit(X_train, y_train)\n",
    "\n",
    "accuracy = clf.score(X_test, y_test)\n",
    "print(accuracy)"
   ]
  },
  {
   "cell_type": "markdown",
   "metadata": {},
   "source": [
    "# My implementation of Naive Bayes Classifier"
   ]
  },
  {
   "cell_type": "code",
   "execution_count": 6,
   "metadata": {
    "collapsed": true
   },
   "outputs": [],
   "source": [
    "class NaiveBayesClassifier:\n",
    "        \n",
    "    def separate_by_class(self):\n",
    "        separated = {}\n",
    "        for i in range(len(self.labels)):\n",
    "            if (self.labels[i] not in separated):\n",
    "                separated[self.labels[i]] = []\n",
    "            separated[self.labels[i]].append(self.features[i])\n",
    "        return separated\n",
    "    \n",
    "    def mean_and_std_by_class(self):\n",
    "        separated = self.separate_by_class()\n",
    "        summaries = {}\n",
    "        for key, values in separated.items():\n",
    "            summaries[key] = self.summarize(values)\n",
    "        return summaries\n",
    "    \n",
    "    def summarize(self, values):\n",
    "        summaries = [(mean(feature), stdev(feature)) for feature in list(zip(*values))]\n",
    "        return summaries\n",
    "    \n",
    "    def norm(self, x, m, s):\n",
    "        e = math.exp(-(math.pow(x - m, 2) / (2 * math.pow(s, 2))))\n",
    "        return (1 / (math.sqrt(2 * math.pi) * s)) * e\n",
    "    \n",
    "    def class_probability(self, summaries, features):\n",
    "        probabilities = {}\n",
    "        for key, values in summaries.items():\n",
    "            probabilities[key] = 1\n",
    "            for i in range(len(values)):\n",
    "                m, s = values[i]\n",
    "                x = features[i]\n",
    "                probabilities[key] *= self.norm(x, m, s)\n",
    "        return probabilities\n",
    "    \n",
    "    def predict_class(self, X):\n",
    "        probabilities = self.class_probability(self.summaries, X)\n",
    "        label, probability = None, -1\n",
    "        for key, value in probabilities.items():\n",
    "            if label is None or value > probability:\n",
    "                probability = value\n",
    "                label = key\n",
    "        return label\n",
    "        \n",
    "    def predict(self, X):\n",
    "        predictions = []\n",
    "        for i in range(len(X)):\n",
    "            result = self.predict_class(X[i])\n",
    "            predictions.append(result)\n",
    "        return predictions\n",
    "        \n",
    "    def fit(self, features, labels):\n",
    "        self.features = features\n",
    "        self.labels = labels\n",
    "        self.summaries = self.mean_and_std_by_class()"
   ]
  },
  {
   "cell_type": "code",
   "execution_count": 7,
   "metadata": {
    "collapsed": false
   },
   "outputs": [
    {
     "name": "stdout",
     "output_type": "stream",
     "text": [
      "0.746753246753\n"
     ]
    }
   ],
   "source": [
    "my_clf = NaiveBayesClassifier()\n",
    "\n",
    "my_clf.fit(X_train, y_train)\n",
    "predictions = my_clf.predict(X_test)\n",
    "\n",
    "accuracy_of_mine = accuracy_score(y_test, predictions)\n",
    "print(accuracy_of_mine)"
   ]
  }
 ],
 "metadata": {
  "kernelspec": {
   "display_name": "Python 3",
   "language": "python",
   "name": "python3"
  },
  "language_info": {
   "codemirror_mode": {
    "name": "ipython",
    "version": 3
   },
   "file_extension": ".py",
   "mimetype": "text/x-python",
   "name": "python",
   "nbconvert_exporter": "python",
   "pygments_lexer": "ipython3",
   "version": "3.6.0"
  }
 },
 "nbformat": 4,
 "nbformat_minor": 2
}
